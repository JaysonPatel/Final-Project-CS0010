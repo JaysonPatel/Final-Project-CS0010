{
 "cells": [
  {
   "cell_type": "code",
   "execution_count": 12,
   "metadata": {},
   "outputs": [],
   "source": [
    "import pandas as pd\n",
    "import geopandas as gpd #Importing essentials\n",
    "import numpy as np\n",
    "import matplotlib.pyplot as plt"
   ]
  },
  {
   "cell_type": "markdown",
   "metadata": {},
   "source": [
    "For this project, I will determine which neighborhood is the best by determining which neighborhood is the safest.  I will do that using a dataset called 'Pittsburgh Police Arrest Data' (https://data.wprdc.org/datastore/dump/e03a89dd-134a-4ee8-a2bd-62c40aeebc6f).  To do this, I will determine the neighborhood where the least amount of arrests happen."
   ]
  },
  {
   "cell_type": "code",
   "execution_count": 14,
   "metadata": {},
   "outputs": [],
   "source": [
    "crimeRates = pd.read_csv(\"crimeRates.csv\", index_col=\"PK\") #Reading in csv file\n",
    "sortedRates = crimeRates['INCIDENTNEIGHBORHOOD'].value_counts() #creating an ordered series based on total number of instances of a neighborhood\n",
    "finalCrimeMetrics = [] #creating final list\n",
    "crimeSum = sortedRates.sum() #finding sum for purpose of final metric\n",
    "\n",
    "for i in range(0, sortedRates.size):  #creating finalCrimeMetrics, an ordered list of neighborhoods based on the % of total pittsburgh arrests \n",
    "    finalCrimeMetrics.append((sortedRates.index[i], \"{:.2f}\".format(100 * (sortedRates.iloc[i]/crimeSum))))\n"
   ]
  },
  {
   "cell_type": "markdown",
   "metadata": {},
   "source": [
    "[('Central Business District', '6.36'),\n",
    " ('South Side Flats', '5.37'),\n",
    " ('Carrick', '3.71'),\n",
    " ('East Allegheny', '3.44'),\n",
    " ('Homewood South', '3.38'),\n",
    " ('Homewood North', '3.09'),\n",
    " ('East Liberty', '2.89'),\n",
    " ('Marshall-Shadeland', '2.40'),\n",
    " ('Bluff', '2.32'),\n",
    " ('Mount Washington', '2.26'),\n",
    " ('Knoxville', '2.14'),\n",
    " ('Hazelwood', '2.13'),\n",
    " ('Brookline', '2.06'),\n",
    " ('Sheraden', '2.03'),\n",
    " ('Lincoln-Lemington-Belmar', '2.03'),\n",
    " ('Beechview', '1.97'),\n",
    " ('Allegheny Center', '1.94'),\n",
    " ('East Hills', '1.81'),\n",
    " ('Brighton Heights', '1.76'),\n",
    " ('Perry South', '1.72'),\n",
    " ('Bloomfield', '1.60'),\n",
    " ('Shadyside', '1.54'),\n",
    " ('Allentown', '1.54'),\n",
    " ('Middle Hill', '1.50'),\n",
    " ('Fineview', '1.41'),\n",
    " ('Central North Side', '1.39'),\n",
    " ('Larimer', '1.33'),\n",
    " ('Crawford-Roberts', '1.32'),\n",
    " ('South Side Slopes', '1.29'),\n",
    " ('Squirrel Hill South', '1.28'),\n",
    " ('Homewood West', '1.25'),\n",
    " ('North Shore', '1.22'),\n",
    " ('Spring Hill-City View', '1.17'),\n",
    " ('Northview Heights', '1.15'),\n",
    " ('Garfield', '1.10'),\n",
    " ('Perry North', '1.05'),\n",
    " ('Elliott', '1.04'),\n",
    " ('Bedford Dwellings', '1.01'),\n",
    " ('Highland Park', '0.94'),\n",
    " ('Crafton Heights', '0.91'),\n",
    " ('Beltzhoover', '0.83'),\n",
    " ('Central Oakland', '0.82'),\n",
    " ('Greenfield', '0.82'),\n",
    " ('Manchester', '0.81'),\n",
    " ('Strip District', '0.78'),\n",
    " ('Central Lawrenceville', '0.73'),\n",
    " ('Chateau', '0.69'),\n",
    " ('North Oakland', '0.68'),\n",
    " ('Troy Hill', '0.68'),\n",
    " ('Upper Hill', '0.59'),\n",
    " ('South Oakland', '0.55'),\n",
    " ('Point Breeze', '0.53'),\n",
    " ('Outside City', '0.50'),\n",
    " ('West Oakland', '0.49'),\n",
    " ('South Shore', '0.47'),\n",
    " ('Arlington', '0.47'),\n",
    " ('Overbrook', '0.47'),\n",
    " ('Banksville', '0.45'),\n",
    " ('California-Kirkbride', '0.45'),\n",
    " ('Point Breeze North', '0.45'),\n",
    " ('West End', '0.43'),\n",
    " ('Squirrel Hill North', '0.43'),\n",
    " ('Terrace Village', '0.42'),\n",
    " ('Lower Lawrenceville', '0.40'),\n",
    " ('Bon Air', '0.40'),\n",
    " ('Spring Garden', '0.38'),\n",
    " ('Stanton Heights', '0.35'),\n",
    " ('Westwood', '0.35'),\n",
    " ('Lincoln Place', '0.32'),\n",
    " ('Upper Lawrenceville', '0.32'),\n",
    " ('Duquesne Heights', '0.32'),\n",
    " ('Esplen', '0.31'),\n",
    " ('Morningside', '0.30'),\n",
    " ('Friendship', '0.27'),\n",
    " ('Polish Hill', '0.26'),\n",
    " ('Glen Hazel', '0.24'),\n",
    " ('Arlington Heights', '0.24'),\n",
    " ('Mount Oliver', '0.22'),\n",
    " ('Allegheny West', '0.20'),\n",
    " ('Fairywood', '0.18'),\n",
    " ('Hays', '0.18'),\n",
    " ('Windgap', '0.17'),\n",
    " ('Golden Triangle/Civic Arena', '0.17'),\n",
    " ('Oakwood', '0.13'),\n",
    " ('Summer Hill', '0.12'),\n",
    " ('Outside State', '0.10'),\n",
    " ('Outside County', '0.09'),\n",
    " ('East Carnegie', '0.09'),\n",
    " ('St. Clair', '0.08'),\n",
    " ('New Homestead', '0.07'),\n",
    " ('Swisshelm Park', '0.06'),\n",
    " ('Chartiers City', '0.06'),\n",
    " ('Ridgemont', '0.05'),\n",
    " ('Regent Square', '0.05'),\n",
    " ('Central Northside', '0.05'),\n",
    " ('Mt. Oliver Boro', '0.03'),\n",
    " ('Troy Hill-Herrs Island', '0.01'),\n",
    " ('Mt. Oliver Neighborhood', '0.00')]"
   ]
  },
  {
   "cell_type": "markdown",
   "metadata": {},
   "source": [
    "This is the content of finalCrimeMetrics, an ordered list of the percent of total pittsburgh arrests that occur by neighborhood"
   ]
  },
  {
   "cell_type": "markdown",
   "metadata": {},
   "source": [
    "Central Business District    3161\n",
    "South Side Flats             2669\n",
    "Carrick                      1844\n",
    "East Allegheny               1709\n",
    "Homewood South               1680\n",
    "                             ... \n",
    "Regent Square                  27\n",
    "Central Northside              23\n",
    "Mt. Oliver Boro                17\n",
    "Troy Hill-Herrs Island          6\n",
    "Mt. Oliver Neighborhood         2\n",
    "Name: INCIDENTNEIGHBORHOOD, Length: 98, dtype: int64"
   ]
  },
  {
   "cell_type": "markdown",
   "metadata": {},
   "source": [
    "This is the contest of sortedRates, an ordered series containing the amount of arrests by neighborhood from greatest to least"
   ]
  },
  {
   "cell_type": "code",
   "execution_count": 15,
   "metadata": {},
   "outputs": [
    {
     "data": {
      "image/png": "[encoded data removed]",
      "text/plain": [
       "<Figure size 432x288 with 1 Axes>"
      ]
     },
     "metadata": {
      "needs_background": "light"
     },
     "output_type": "display_data"
    }
   ],
   "source": [
    "x,y = [],[] #creating needed lists for axes\n",
    "\n",
    "for i in range(0, sortedRates.size): #filling x-axis list\n",
    "    x.append(i)\n",
    "    \n",
    "for i in range(0, sortedRates.size): #filling y-axis list\n",
    "    y.append(sortedRates.iloc[i])\n",
    "    \n",
    "plt.bar(x,y) #creating initial graph\n",
    "plt.title('Pittsburgh Arrests by Neighborhood') #formating, creating, and printing bar graph\n",
    "plt.xlabel('Neighborhood')\n",
    "plt.ylabel('Arrests')\n",
    "plt.show()"
   ]
  },
  {
   "cell_type": "markdown",
   "metadata": {},
   "source": [
    "This is a data visualisation of sortedRates in the form of a bar graph. Since the names of the neighborhoods on the x-axis would be too cramped, the x-axis  contains the index of the neighborhood in sortedRates.  We can see that it starts with the Central Business District on the left, and ends with Mt. Oliver Neighborhood on the right."
   ]
  },
  {
   "cell_type": "markdown",
   "metadata": {},
   "source": [
    "Based on the above metrics, I have concluded that the best and safest neighborhood in pittsburgh to live in is Herr's Island (I am combining the statistics of Mt. Oliver Boro and Mt. Oliver Neighborhood to make this decision)."
   ]
  },
  {
   "cell_type": "markdown",
   "metadata": {},
   "source": [
    "![title](https://riverlifepgh.org/wp-content/uploads/2016/10/Washingtons-Landing-Riverfront-residential.jpg)"
   ]
  },
  {
   "cell_type": "code",
   "execution_count": null,
   "metadata": {},
   "outputs": [],
   "source": []
  }
 ],
 "metadata": {
  "kernelspec": {
   "display_name": "Python 3",
   "language": "python",
   "name": "python3"
  },
  "language_info": {
   "codemirror_mode": {
    "name": "ipython",
    "version": 3
   },
   "file_extension": ".py",
   "mimetype": "text/x-python",
   "name": "python",
   "nbconvert_exporter": "python",
   "pygments_lexer": "ipython3",
   "version": "3.8.3"
  }
 },
 "nbformat": 4,
 "nbformat_minor": 4
}
