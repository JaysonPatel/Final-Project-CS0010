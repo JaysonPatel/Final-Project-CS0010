{
 "cells": [
  {
   "cell_type": "code",
   "execution_count": 12,
   "metadata": {},
   "outputs": [],
   "source": [
    "import pandas as pd\n",
    "import geopandas as gpd #Importing essentials\n",
    "import numpy as np\n",
    "import matplotlib.pyplot as plt"
   ]
  },
  {
   "cell_type": "markdown",
   "metadata": {},
   "source": [
    "# Final Project Code Notebook"
   ]
  },
  {
   "cell_type": "markdown",
   "metadata": {},
   "source": [
    "For this project, I will determine which neighborhood is the best by determining which neighborhood is the safest.  I will do that using a dataset called 'Pittsburgh Police Arrest Data' (https://data.wprdc.org/datastore/dump/e03a89dd-134a-4ee8-a2bd-62c40aeebc6f).  To do this, I will determine the neighborhood where the least amount of arrests happen."
   ]
  },
  {
   "cell_type": "markdown",
   "metadata": {},
   "source": [
    "## Step 1: Creating and manipulating dataset"
   ]
  },
  {
   "cell_type": "markdown",
   "metadata": {},
   "source": [
    "In this step, I import the dataset and manipulate it in order to find the safest neighborhood in Pittsburgh.  I do this by creating a series using the pandas 'value_counts()' function.  This creates an ordered series for the total amount of instances each neighborhood has in the dataset.  I also create my final list by using the series to find which neighborhood has the lowest percentatge of total arrests that occur."
   ]
  },
  {
   "cell_type": "code",
   "execution_count": 17,
   "metadata": {},
   "outputs": [],
   "source": [
    "crimeRates = pd.read_csv(\"crimeRates.csv\", index_col=\"PK\") #Reading in csv file\n",
    "sortedRates = crimeRates['INCIDENTNEIGHBORHOOD'].value_counts() #creating an ordered series based on total number of instances of a neighborhood\n",
    "finalCrimeMetrics = [] #creating final list\n",
    "crimeSum = sortedRates.sum() #finding sum for purpose of final metric\n",
    "\n",
    "for i in range(0, sortedRates.size):  #creating finalCrimeMetrics, an ordered list of neighborhoods based on the % of total pittsburgh arrests \n",
    "    finalCrimeMetrics.append((sortedRates.index[i], \"{:.2f}\".format(100 * (sortedRates.iloc[i]/crimeSum))))\n",
    "    \n",
    "\n"
   ]
  },
  {
   "cell_type": "markdown",
   "metadata": {},
   "source": [
    "### Below are examples of outputs from the series sortedRates, and finalCrimeMetrics, respectively"
   ]
  },
  {
   "cell_type": "markdown",
   "metadata": {},
   "source": [
    "#### sortedRates"
   ]
  },
  {
   "cell_type": "code",
   "execution_count": 24,
   "metadata": {},
   "outputs": [
    {
     "data": {
      "text/plain": [
       "Central Business District    3161\n",
       "South Side Flats             2669\n",
       "Carrick                      1844\n",
       "East Allegheny               1709\n",
       "Homewood South               1680\n",
       "Name: INCIDENTNEIGHBORHOOD, dtype: int64"
      ]
     },
     "execution_count": 24,
     "metadata": {},
     "output_type": "execute_result"
    }
   ],
   "source": [
    "sortedRates.head()"
   ]
  },
  {
   "cell_type": "markdown",
   "metadata": {},
   "source": [
    "#### finalCrimeMetrics"
   ]
  },
  {
   "cell_type": "code",
   "execution_count": 22,
   "metadata": {},
   "outputs": [
    {
     "name": "stdout",
     "output_type": "stream",
     "text": [
      "('Central Business District', '6.36')\n",
      "('South Side Flats', '5.37')\n",
      "('Carrick', '3.71')\n",
      "('East Allegheny', '3.44')\n",
      "('Homewood South', '3.38')\n"
     ]
    }
   ],
   "source": [
    "for i in range(0,5):\n",
    "    print(finalCrimeMetrics[i])"
   ]
  },
  {
   "cell_type": "markdown",
   "metadata": {},
   "source": [
    "# Step 2: Visualizing the Data"
   ]
  },
  {
   "cell_type": "markdown",
   "metadata": {},
   "source": [
    "In this step, I use the above list and series to create a bar graph representing the amount of arrests in each of Pittsburgh's neighborhoods.  To do this, I use 'for loops' to fill lists that will be used to create the data for the x and y axes.  For the x axis I used each neighborhood's index number (since all of the names would cause the axis to become very messy), and for the y axis I used iloc to pull each neighborhood's total number of arrests."
   ]
  },
  {
   "cell_type": "code",
   "execution_count": 15,
   "metadata": {},
   "outputs": [
    {
     "data": {
      "image/png": "[encoded data removed]",
      "text/plain": [
       "<Figure size 432x288 with 1 Axes>"
      ]
     },
     "metadata": {
      "needs_background": "light"
     },
     "output_type": "display_data"
    }
   ],
   "source": [
    "x,y = [],[] #creating needed lists for axes\n",
    "\n",
    "for i in range(0, sortedRates.size): #filling x-axis list\n",
    "    x.append(i)\n",
    "    \n",
    "for i in range(0, sortedRates.size): #filling y-axis list\n",
    "    y.append(sortedRates.iloc[i])\n",
    "    \n",
    "plt.bar(x,y) #creating initial graph\n",
    "plt.title('Pittsburgh Arrests by Neighborhood') #formating, creating, and printing bar graph\n",
    "plt.xlabel('Neighborhood')\n",
    "plt.ylabel('Arrests')\n",
    "plt.show()"
   ]
  },
  {
   "cell_type": "markdown",
   "metadata": {},
   "source": [
    "# Step 3: Analysis"
   ]
  },
  {
   "cell_type": "markdown",
   "metadata": {},
   "source": [
    "Based on the above metrics, I have concluded that the best and safest neighborhood in pittsburgh to live in is Herr's Island (I am combining the statistics of Mt. Oliver Boro and Mt. Oliver Neighborhood to make this decision). Herr's island has the least amount of arrests, coming in at just 6.  Mount oliver neighborhood and Boro have a combined 19. "
   ]
  },
  {
   "cell_type": "code",
   "execution_count": 28,
   "metadata": {},
   "outputs": [
    {
     "data": {
      "text/plain": [
       "Central Business District    3161\n",
       "South Side Flats             2669\n",
       "Carrick                      1844\n",
       "East Allegheny               1709\n",
       "Homewood South               1680\n",
       "                             ... \n",
       "Regent Square                  27\n",
       "Central Northside              23\n",
       "Mt. Oliver Boro                17\n",
       "Troy Hill-Herrs Island          6\n",
       "Mt. Oliver Neighborhood         2\n",
       "Name: INCIDENTNEIGHBORHOOD, Length: 98, dtype: int64"
      ]
     },
     "execution_count": 28,
     "metadata": {},
     "output_type": "execute_result"
    }
   ],
   "source": [
    "sortedRates"
   ]
  },
  {
   "cell_type": "markdown",
   "metadata": {},
   "source": [
    "![title](https://riverlifepgh.org/wp-content/uploads/2016/10/Washingtons-Landing-Riverfront-residential.jpg)"
   ]
  },
  {
   "cell_type": "code",
   "execution_count": null,
   "metadata": {},
   "outputs": [],
   "source": []
  }
 ],
 "metadata": {
  "kernelspec": {
   "display_name": "Python 3",
   "language": "python",
   "name": "python3"
  },
  "language_info": {
   "codemirror_mode": {
    "name": "ipython",
    "version": 3
   },
   "file_extension": ".py",
   "mimetype": "text/x-python",
   "name": "python",
   "nbconvert_exporter": "python",
   "pygments_lexer": "ipython3",
   "version": "3.8.3"
  }
 },
 "nbformat": 4,
 "nbformat_minor": 4
}
